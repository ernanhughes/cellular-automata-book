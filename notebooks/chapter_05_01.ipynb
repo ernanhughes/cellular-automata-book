{
 "cells": [
  {
   "cell_type": "code",
   "execution_count": 4,
   "metadata": {},
   "outputs": [
    {
     "name": "stdout",
     "output_type": "stream",
     "text": [
      "..........#....#......####..##....#######.\n",
      "..........##........##########....########\n",
      "...................###########....########\n",
      "...................###########.....#######\n",
      "...................############.....#####.\n",
      "....................###########......####.\n",
      "................##.....#######............\n",
      "........................#####.............\n",
      ".........................####......###....\n",
      "..##......................###.......##....\n",
      ".####.....................##..............\n",
      ".####.....................................\n",
      ".####...####....#.....##............#.....\n",
      ".####....###...###........................\n",
      ".####.....#....####.......................\n",
      ".####..........######.....................\n",
      ".###............#####.......##............\n",
      ".........####..............####...........\n",
      "........######.............####...........\n",
      "........#######........##..#####..........\n",
      ".........#########..........#####.........\n",
      ".........##########..........#####........\n",
      ".........###########.........#####........\n",
      "..........#####..######..##..#####........\n",
      "..................#########...###.........\n",
      "....................######................\n",
      "............######...####.................\n",
      ".............#####...####...##............\n",
      "....................#####.................\n",
      "....................#####.................\n",
      "...................######........##..###..\n",
      "................##########......#########.\n",
      "................############....#########.\n",
      ".................############....########.\n",
      "..................############...########.\n",
      "...................###########...########.\n",
      "...........##......###########...########.\n",
      "....................##########....#####...\n",
      ".#######.............##....##.............\n",
      "#########.................................\n",
      "#########...#####.......###......##.......\n",
      ".....###.....####........##...............\n"
     ]
    }
   ],
   "source": [
    "import random\n",
    "import numpy as np\n",
    "\n",
    "shape = (42,42)\n",
    "WALL = 0\n",
    "FLOOR = 1\n",
    "fill_prob = 0.4\n",
    "\n",
    "def display_cave(matrix):\n",
    "    for i in range(matrix.shape[0]):\n",
    "        for j in range(matrix.shape[1]):\n",
    "            char = \"#\" if matrix[i][j] == WALL else \".\"\n",
    "            print(char, end='')\n",
    "        print()\n",
    "\n",
    "\n",
    "new_map = np.ones(shape)\n",
    "for i in range(shape[0]):\n",
    "    for j in range(shape[1]):\n",
    "        choice = random.uniform(0, 1)\n",
    "        new_map[i][j] = WALL if choice < fill_prob else FLOOR\n",
    "\n",
    "# run for 6 generations\n",
    "generations = 6\n",
    "for generation in range(generations):\n",
    "    for i in range(shape[0]):\n",
    "        for j in range(shape[1]):\n",
    "            # get the number of walls 1 away from each index\n",
    "            # get the number of walls 2 away from each index\n",
    "            submap = new_map[max(i-1, 0):min(i+2, new_map.shape[0]),max(j-1, 0):min(j+2, new_map.shape[1])]\n",
    "            wallcount_1away = len(np.where(submap.flatten() == WALL)[0])\n",
    "            submap = new_map[max(i-2, 0):min(i+3, new_map.shape[0]),max(j-2, 0):min(j+3, new_map.shape[1])]\n",
    "            wallcount_2away = len(np.where(submap.flatten() == WALL)[0])\n",
    "            # this consolidates walls\n",
    "            # for first five generations build a scaffolding of walls\n",
    "            if generation < 5:\n",
    "                # if looking 1 away in all directions you see 5 or more walls\n",
    "                # consolidate this point into a wall, if that doesnt happpen\n",
    "                # and if looking 2 away in all directions you see less than\n",
    "                # 7 walls, add a wall, this consolidates and adds walls\n",
    "                if wallcount_1away >= 5 or wallcount_2away <= 7:\n",
    "                    new_map[i][j] = WALL\n",
    "                else:\n",
    "                    new_map[i][j] = FLOOR\n",
    "            # this consolidates open space, fills in standalone walls,\n",
    "            # after generation 5 consolidate walls and increase walking space\n",
    "            # if there are more than 5 walls nearby make that point a wall,\n",
    "            # otherwise add a floor\n",
    "            else:\n",
    "                # if looking 1 away in all direction you see 5 walls\n",
    "                # consolidate this point into a wall,\n",
    "                if wallcount_1away >= 5:\n",
    "                    new_map[i][j] = WALL\n",
    "                else:\n",
    "                    new_map[i][j] = FLOOR\n",
    "\n",
    "display_cave(new_map)"
   ]
  },
  {
   "cell_type": "code",
   "execution_count": 5,
   "metadata": {},
   "outputs": [],
   "source": [
    "import numpy as np\n",
    "import matplotlib.pyplot as plt\n",
    "import random\n",
    "\n",
    "def initialize_grid(size, fill_probability):\n",
    "    \"\"\"Initialize a grid with random 0s and 1s based on fill probability.\"\"\"\n",
    "    return np.random.choice([0, 1], size=size, p=[1-fill_probability, fill_probability])\n",
    "\n",
    "def display_grid(grid):\n",
    "    \"\"\"Visualize the grid using matplotlib.\"\"\"\n",
    "    plt.figure(figsize=(8, 8))\n",
    "    plt.imshow(grid, cmap='binary')\n",
    "    plt.axis('off')\n",
    "    plt.show()\n"
   ]
  },
  {
   "cell_type": "code",
   "execution_count": 6,
   "metadata": {},
   "outputs": [
    {
     "data": {
      "image/png": "[encoded data removed]",
      "text/plain": [
       "<Figure size 800x800 with 1 Axes>"
      ]
     },
     "metadata": {},
     "output_type": "display_data"
    }
   ],
   "source": [
    "size = (64, 64)  # Grid size\n",
    "fill_probability = 0.45  # Probability of a cell being a wall (1)\n",
    "\n",
    "# Initialize and display the grid\n",
    "grid = initialize_grid(size, fill_probability)\n",
    "display_grid(grid)\n"
   ]
  },
  {
   "cell_type": "code",
   "execution_count": 7,
   "metadata": {},
   "outputs": [],
   "source": [
    "def apply_ca_rules(grid, birth_limit, survival_limit):\n",
    "    \"\"\"Apply cellular automata rules to the grid.\"\"\"\n",
    "    new_grid = grid.copy()\n",
    "    rows, cols = grid.shape\n",
    "    \n",
    "    for x in range(rows):\n",
    "        for y in range(cols):\n",
    "            # Count the number of walls in the 8-neighborhood\n",
    "            neighbors = grid[max(0, x-1):min(rows, x+2), max(0, y-1):min(cols, y+2)].sum() - grid[x, y]\n",
    "            \n",
    "            if grid[x, y] == 1:\n",
    "                # Survival rule\n",
    "                new_grid[x, y] = 1 if neighbors >= survival_limit else 0\n",
    "            else:\n",
    "                # Birth rule\n",
    "                new_grid[x, y] = 1 if neighbors >= birth_limit else 0\n",
    "    \n",
    "    return new_grid\n"
   ]
  },
  {
   "cell_type": "code",
   "execution_count": 8,
   "metadata": {},
   "outputs": [
    {
     "data": {
      "image/png": "[encoded data removed]",
      "text/plain": [
       "<Figure size 800x800 with 1 Axes>"
      ]
     },
     "metadata": {},
     "output_type": "display_data"
    }
   ],
   "source": [
    "birth_limit = 4  # Minimum neighbors to create a wall\n",
    "survival_limit = 3  # Minimum neighbors to keep a wall\n",
    "\n",
    "# Apply CA rules over multiple iterations\n",
    "iterations = 5\n",
    "for _ in range(iterations):\n",
    "    grid = apply_ca_rules(grid, birth_limit, survival_limit)\n",
    "\n",
    "display_grid(grid)\n"
   ]
  },
  {
   "cell_type": "code",
   "execution_count": 9,
   "metadata": {},
   "outputs": [
    {
     "data": {
      "image/png": "[encoded data removed]",
      "text/plain": [
       "<Figure size 800x800 with 1 Axes>"
      ]
     },
     "metadata": {},
     "output_type": "display_data"
    }
   ],
   "source": [
    "def add_boundaries(grid):\n",
    "    \"\"\"Add solid boundaries around the grid.\"\"\"\n",
    "    grid[0, :] = 1\n",
    "    grid[-1, :] = 1\n",
    "    grid[:, 0] = 1\n",
    "    grid[:, -1] = 1\n",
    "    return grid\n",
    "\n",
    "# Add boundaries to the cave\n",
    "grid = add_boundaries(grid)\n",
    "display_grid(grid)\n"
   ]
  },
  {
   "cell_type": "code",
   "execution_count": 10,
   "metadata": {},
   "outputs": [
    {
     "name": "stdout",
     "output_type": "stream",
     "text": [
      "Cave map saved to cave_map.txt\n"
     ]
    }
   ],
   "source": [
    "def save_to_file(grid, filename):\n",
    "    \"\"\"Save the grid to a text file.\"\"\"\n",
    "    np.savetxt(filename, grid, fmt='%d')\n",
    "\n",
    "# Save the cave grid to a file\n",
    "save_to_file(grid, \"cave_map.txt\")\n",
    "print(\"Cave map saved to cave_map.txt\")\n"
   ]
  }
 ],
 "metadata": {
  "kernelspec": {
   "display_name": ".env",
   "language": "python",
   "name": "python3"
  },
  "language_info": {
   "codemirror_mode": {
    "name": "ipython",
    "version": 3
   },
   "file_extension": ".py",
   "mimetype": "text/x-python",
   "name": "python",
   "nbconvert_exporter": "python",
   "pygments_lexer": "ipython3",
   "version": "3.11.9"
  }
 },
 "nbformat": 4,
 "nbformat_minor": 2
}
