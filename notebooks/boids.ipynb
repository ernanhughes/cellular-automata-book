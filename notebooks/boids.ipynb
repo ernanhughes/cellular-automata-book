{
 "cells": [
  {
   "cell_type": "code",
   "execution_count": 1,
   "metadata": {},
   "outputs": [
    {
     "data": {
      "image/png": "[encoded data removed]",
      "text/plain": [
       "<Figure size 640x480 with 1 Axes>"
      ]
     },
     "metadata": {},
     "output_type": "display_data"
    }
   ],
   "source": [
    "import numpy as np\n",
    "import matplotlib.pyplot as plt\n",
    "\n",
    "class Boid:\n",
    "    def __init__(self, position, velocity):\n",
    "        self.position = np.array(position, dtype=float)\n",
    "        self.velocity = np.array(velocity, dtype=float)\n",
    "\n",
    "    def update(self, boids, weights, radius):\n",
    "        separation_force = np.zeros(2)\n",
    "        alignment_force = np.zeros(2)\n",
    "        cohesion_force = np.zeros(2)\n",
    "        \n",
    "        neighbors = [b for b in boids if np.linalg.norm(b.position - self.position) < radius and b != self]\n",
    "        if neighbors:\n",
    "            for neighbor in neighbors:\n",
    "                separation_force += (self.position - neighbor.position) / np.linalg.norm(self.position - neighbor.position)**2\n",
    "                alignment_force += neighbor.velocity\n",
    "                cohesion_force += neighbor.position\n",
    "            \n",
    "            separation_force /= len(neighbors)\n",
    "            alignment_force = (alignment_force / len(neighbors)) - self.velocity\n",
    "            cohesion_force = (cohesion_force / len(neighbors)) - self.position\n",
    "        \n",
    "        total_force = (weights[0] * separation_force +\n",
    "                       weights[1] * alignment_force +\n",
    "                       weights[2] * cohesion_force)\n",
    "        \n",
    "        self.velocity += total_force\n",
    "        self.position += self.velocity\n",
    "\n",
    "# Initialize boids\n",
    "num_boids = 30\n",
    "boids = [Boid(position=np.random.rand(2) * 100, velocity=(np.random.rand(2) - 0.5) * 10) for _ in range(num_boids)]\n",
    "\n",
    "# Simulation parameters\n",
    "weights = [1.5, 1.0, 1.0]  # Separation, alignment, cohesion\n",
    "radius = 15\n",
    "steps = 200\n",
    "\n",
    "# Run simulation\n",
    "plt.ion()\n",
    "fig, ax = plt.subplots()\n",
    "\n",
    "for _ in range(steps):\n",
    "    ax.clear()\n",
    "    ax.set_xlim(0, 100)\n",
    "    ax.set_ylim(0, 100)\n",
    "    for boid in boids:\n",
    "        boid.update(boids, weights, radius)\n",
    "        ax.plot(boid.position[0], boid.position[1], 'bo')\n",
    "    plt.pause(0.05)"
   ]
  }
 ],
 "metadata": {
  "kernelspec": {
   "display_name": ".env",
   "language": "python",
   "name": "python3"
  },
  "language_info": {
   "codemirror_mode": {
    "name": "ipython",
    "version": 3
   },
   "file_extension": ".py",
   "mimetype": "text/x-python",
   "name": "python",
   "nbconvert_exporter": "python",
   "pygments_lexer": "ipython3",
   "version": "3.11.9"
  }
 },
 "nbformat": 4,
 "nbformat_minor": 2
}
