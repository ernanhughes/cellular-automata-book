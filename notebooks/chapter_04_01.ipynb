{
 "cells": [
  {
   "cell_type": "code",
   "execution_count": null,
   "metadata": {},
   "outputs": [
    {
     "data": {
      "image/png": "[encoded data removed]",
      "text/plain": [
       "<Figure size 640x480 with 1 Axes>"
      ]
     },
     "metadata": {},
     "output_type": "display_data"
    }
   ],
   "source": [
    "import numpy as np\n",
    "import random\n",
    "\n",
    "class SLCA:\n",
    "    def __init__(self, size, learning_rate=0.1, decay_rate=0.01):\n",
    "        self.size = size\n",
    "        self.learning_rate = learning_rate\n",
    "        self.decay_rate = decay_rate\n",
    "        self.grid = np.zeros((size, size))\n",
    "\n",
    "    def activate(self):\n",
    "        for i in range(self.size):\n",
    "            for j in range(self.size):\n",
    "                # Compute local rule (simple example)\n",
    "                rule_value = (self.grid[(i-1) % self.size, j] + \n",
    "                              self.grid[i, (j-1) % self.size] +\n",
    "                              self.grid[i, (j+1) % self.size]) / 3\n",
    "                if random.random() < 0.5:  # Randomly decide to update rule\n",
    "                    new_rule_value = np.clip(rule_value * (self.learning_rate + \n",
    "                                                        random.random()), -1, 1)\n",
    "                    self.grid[(i-1) % self.size, j] = new_rule_value\n",
    "\n",
    "    def evolve(self):\n",
    "        for i in range(self.size):\n",
    "            for j in range(self.size):\n",
    "                # Compute state update rule\n",
    "                state_value = np.max([self.grid[k, j] * (1 - \n",
    "                                                      self.decay_rate + \n",
    "                                                      random.random())  # Random perturbation\n",
    "                                  for k in range(4)])\n",
    "                if random.random() < 0.5:  # Randomly decide to stay or move\n",
    "                    new_state_value = np.clip(state_value * (self.learning_rate + \n",
    "                                                            random.random()), -1, 1)\n",
    "                    self.grid[i, j] = new_state_value\n",
    "\n",
    "# Example usage:\n",
    "slca = SLCA(100)\n",
    "\n",
    "for _ in range(1000):\n",
    "    slca.evolve()\n",
    "    slca.activate()\n",
    "\n",
    "import matplotlib.pyplot as plt\n",
    "plt.imshow(slca.grid, cmap='hot', interpolation='nearest')\n",
    "plt.show()"
   ]
  }
 ],
 "metadata": {
  "kernelspec": {
   "display_name": ".env",
   "language": "python",
   "name": "python3"
  },
  "language_info": {
   "codemirror_mode": {
    "name": "ipython",
    "version": 3
   },
   "file_extension": ".py",
   "mimetype": "text/x-python",
   "name": "python",
   "nbconvert_exporter": "python",
   "pygments_lexer": "ipython3",
   "version": "3.11.9"
  }
 },
 "nbformat": 4,
 "nbformat_minor": 2
}
