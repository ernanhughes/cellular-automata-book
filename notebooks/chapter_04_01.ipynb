{
 "cells": [
  {
   "cell_type": "code",
   "execution_count": null,
   "metadata": {
    "vscode": {
     "languageId": "plaintext"
    }
   },
   "outputs": [],
   "source": [
    "import numpy as np\n",
    "import matplotlib.pyplot as plt\n",
    "\n",
    "def custom_rule(grid, x, y):\n",
    "    \"\"\"Custom rule for state transition.\"\"\"\n",
    "    neighbors = grid[x-1:x+2, y-1:y+2].sum() - grid[x, y]\n",
    "    if grid[x, y] == 1:  # Alive\n",
    "        return 1 if neighbors in [2, 3] else 0\n",
    "    else:  # Dead\n",
    "        return 1 if neighbors == 3 else 0\n",
    "\n",
    "def apply_custom_rule(grid, steps):\n",
    "    \"\"\"Applies the custom rule over multiple steps.\"\"\"\n",
    "    rows, cols = grid.shape\n",
    "    for _ in range(steps):\n",
    "        new_grid = grid.copy()\n",
    "        for x in range(1, rows-1):\n",
    "            for y in range(1, cols-1):\n",
    "                new_grid[x, y] = custom_rule(grid, x, y)\n",
    "        grid = new_grid\n",
    "        yield grid\n",
    "\n",
    "# Initial grid\n",
    "grid = np.zeros((20, 20), dtype=int)\n",
    "grid[9, 9] = grid[9, 10] = grid[9, 11] = grid[10, 10] = 1  # Glider-like structure\n",
    "\n",
    "# Simulate and visualize\n",
    "for step, g in enumerate(apply_custom_rule(grid, steps=10)):\n",
    "    plt.figure(figsize=(5, 5))\n",
    "    plt.imshow(g, cmap=\"binary\", interpolation=\"none\")\n",
    "    plt.title(f\"Custom Rule - Step {step+1}\")\n",
    "    plt.axis(\"off\")\n",
    "    plt.show()\n"
   ]
  }
 ],
 "metadata": {
  "language_info": {
   "name": "python"
  }
 },
 "nbformat": 4,
 "nbformat_minor": 2
}
