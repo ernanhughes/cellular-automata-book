{
 "cells": [
  {
   "cell_type": "code",
   "execution_count": 5,
   "metadata": {},
   "outputs": [
    {
     "ename": "ImportError",
     "evalue": "cannot import name 'toimage' from 'scipy.misc' (d:\\books\\cellular-automata-book\\.env\\Lib\\site-packages\\scipy\\misc\\__init__.py)",
     "output_type": "error",
     "traceback": [
      "\u001b[1;31m---------------------------------------------------------------------------\u001b[0m",
      "\u001b[1;31mImportError\u001b[0m                               Traceback (most recent call last)",
      "Cell \u001b[1;32mIn[5], line 3\u001b[0m\n\u001b[0;32m      1\u001b[0m \u001b[38;5;28;01mimport\u001b[39;00m \u001b[38;5;21;01mnoise\u001b[39;00m\n\u001b[0;32m      2\u001b[0m \u001b[38;5;28;01mimport\u001b[39;00m \u001b[38;5;21;01mnumpy\u001b[39;00m \u001b[38;5;28;01mas\u001b[39;00m \u001b[38;5;21;01mnp\u001b[39;00m\n\u001b[1;32m----> 3\u001b[0m \u001b[38;5;28;01mfrom\u001b[39;00m \u001b[38;5;21;01mscipy\u001b[39;00m\u001b[38;5;21;01m.\u001b[39;00m\u001b[38;5;21;01mmisc\u001b[39;00m \u001b[38;5;28;01mimport\u001b[39;00m toimage\n\u001b[0;32m      5\u001b[0m shape \u001b[38;5;241m=\u001b[39m (\u001b[38;5;241m1024\u001b[39m,\u001b[38;5;241m1024\u001b[39m)\n\u001b[0;32m      6\u001b[0m scale \u001b[38;5;241m=\u001b[39m \u001b[38;5;241m100.0\u001b[39m\n",
      "\u001b[1;31mImportError\u001b[0m: cannot import name 'toimage' from 'scipy.misc' (d:\\books\\cellular-automata-book\\.env\\Lib\\site-packages\\scipy\\misc\\__init__.py)"
     ]
    }
   ],
   "source": [
    "import noise\n",
    "import numpy as np\n",
    "from scipy.misc import toimage\n",
    "\n",
    "shape = (1024,1024)\n",
    "scale = 100.0\n",
    "octaves = 6\n",
    "persistence = 0.5\n",
    "lacunarity = 2.0\n",
    "\n",
    "world = np.zeros(shape)\n",
    "for i in range(shape[0]):\n",
    "    for j in range(shape[1]):\n",
    "        world[i][j] = noise.pnoise2(i/scale, \n",
    "                                    j/scale, \n",
    "                                    octaves=octaves, \n",
    "                                    persistence=persistence, \n",
    "                                    lacunarity=lacunarity, \n",
    "                                    repeatx=1024, \n",
    "                                    repeaty=1024, \n",
    "                                    base=0)\n",
    "        \n",
    "toimage(world).show()"
   ]
  }
 ],
 "metadata": {
  "kernelspec": {
   "display_name": ".env",
   "language": "python",
   "name": "python3"
  },
  "language_info": {
   "codemirror_mode": {
    "name": "ipython",
    "version": 3
   },
   "file_extension": ".py",
   "mimetype": "text/x-python",
   "name": "python",
   "nbconvert_exporter": "python",
   "pygments_lexer": "ipython3",
   "version": "3.11.9"
  }
 },
 "nbformat": 4,
 "nbformat_minor": 2
}
