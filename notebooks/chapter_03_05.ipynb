{
 "cells": [
  {
   "cell_type": "code",
   "execution_count": 1,
   "metadata": {},
   "outputs": [],
   "source": [
    "import numpy as np\n",
    "\n",
    "def simulate_eca(rule_number, initial_state, steps):\n",
    "    \"\"\"\n",
    "    Simulate an Elementary Cellular Automaton (ECA).\n",
    "\n",
    "    Parameters:\n",
    "        rule_number (int): The rule number (0-255).\n",
    "        initial_state (list): Binary array representing the initial state.\n",
    "        steps (int): Number of steps to simulate.\n",
    "\n",
    "    Returns:\n",
    "        np.ndarray: 2D grid of CA states over time.\n",
    "    \"\"\"\n",
    "    # Convert rule number to binary rule set\n",
    "    rule_binary = np.array([int(x) for x in np.binary_repr(rule_number, width=8)])\n",
    "\n",
    "    # Initialize the grid\n",
    "    n = len(initial_state)\n",
    "    grid = np.zeros((steps, n), dtype=int)\n",
    "    grid[0] = initial_state\n",
    "\n",
    "    for t in range(1, steps):\n",
    "        for i in range(1, n):\n",
    "            neighborhood = (grid[t - 1, i - 1] << 2) | (grid[t - 1, i] << 1) | grid[t - 1, (i + 1) % n]\n",
    "            grid[t, i] = rule_binary[7 - neighborhood]\n",
    "\n",
    "    return grid\n",
    "\n",
    "# Example usage:\n",
    "initial_state = [0] * 20 + [1] + [0] * 20\n",
    "rule_number = 110\n",
    "steps = 50\n",
    "grid = simulate_eca(rule_number, initial_state, steps)"
   ]
  },
  {
   "cell_type": "code",
   "execution_count": 2,
   "metadata": {},
   "outputs": [],
   "source": [
    "def extract_windows(grid, window_size):\n",
    "    \"\"\"\n",
    "    Extract spatiotemporal windows from the ECA grid.\n",
    "\n",
    "    Parameters:\n",
    "        grid (np.ndarray): 2D grid of CA states.\n",
    "        window_size (int): Size of the temporal window.\n",
    "\n",
    "    Returns:\n",
    "        list of np.ndarray: Extracted windows.\n",
    "    \"\"\"\n",
    "    windows = []\n",
    "    for i in range(grid.shape[0] - window_size + 1):\n",
    "        windows.append(grid[i:i + window_size])\n",
    "    return np.array(windows)\n",
    "\n",
    "# Example usage:\n",
    "window_size = 10\n",
    "windows = extract_windows(grid, window_size)"
   ]
  },
  {
   "cell_type": "code",
   "execution_count": 3,
   "metadata": {},
   "outputs": [
    {
     "name": "stdout",
     "output_type": "stream",
     "text": [
      "Lempel-Ziv Complexity: 213\n"
     ]
    }
   ],
   "source": [
    "def compute_lempel_ziv_complexity(sequence):\n",
    "    \"\"\"Calculate Lempel-Ziv complexity.\"\"\"\n",
    "    substrings = set()\n",
    "    complexity = 0\n",
    "    current = \"\"\n",
    "    for char in sequence:\n",
    "        current += char\n",
    "        if current not in substrings:\n",
    "            substrings.add(current)\n",
    "            complexity += 1\n",
    "            current = \"\"\n",
    "    return complexity\n",
    "\n",
    "sequence = \"\".join(map(str, grid.flatten()))\n",
    "lz_complexity = compute_lempel_ziv_complexity(sequence)\n",
    "print(f\"Lempel-Ziv Complexity: {lz_complexity}\")"
   ]
  },
  {
   "cell_type": "code",
   "execution_count": 4,
   "metadata": {},
   "outputs": [
    {
     "name": "stdout",
     "output_type": "stream",
     "text": [
      "Krylov Complexity over time: [1, 2, 3, 4, 5, 6, 7, 8, 9, 10, 11, 12, 13, 14, 15, 16, 17, 18, 19, 20, 21, 22, 23, 24, 25, 26, 27, 28, 29, 30, 31, 32, 33, 34, 35, 36, 37, 38, 39, 40, 41, 42, 43, 44, 45, 46, 47, 48, 49, 50]\n"
     ]
    }
   ],
   "source": [
    "def krylov_complexity(grid):\n",
    "    \"\"\"\n",
    "    Compute the Krylov complexity over time.\n",
    "\n",
    "    Parameters:\n",
    "        grid (np.ndarray): 2D array of automaton states.\n",
    "\n",
    "    Returns:\n",
    "        list: Krylov complexity values over time.\n",
    "    \"\"\"\n",
    "    seen_states = set()\n",
    "    complexity = []\n",
    "\n",
    "    for row in grid:\n",
    "        seen_states.add(tuple(row))\n",
    "        complexity.append(len(seen_states))\n",
    "\n",
    "    return complexity\n",
    "\n",
    "complexity = krylov_complexity(grid)\n",
    "print(f\"Krylov Complexity over time: {complexity}\")"
   ]
  },
  {
   "cell_type": "code",
   "execution_count": 5,
   "metadata": {},
   "outputs": [
    {
     "name": "stderr",
     "output_type": "stream",
     "text": [
      "d:\\books\\cellular-automata-book\\.env\\Lib\\site-packages\\torch\\nn\\modules\\transformer.py:286: UserWarning: enable_nested_tensor is True, but self.use_nested_tensor is False because encoder_layer.self_attn.batch_first was not True(use batch_first for better inference performance)\n",
      "  warnings.warn(f\"enable_nested_tensor is True, but self.use_nested_tensor is False because {why_not_sparsity_fast_path}\")\n"
     ]
    },
    {
     "ename": "RuntimeError",
     "evalue": "view size is not compatible with input tensor's size and stride (at least one dimension spans across two contiguous subspaces). Use .reshape(...) instead.",
     "output_type": "error",
     "traceback": [
      "\u001b[1;31m---------------------------------------------------------------------------\u001b[0m",
      "\u001b[1;31mRuntimeError\u001b[0m                              Traceback (most recent call last)",
      "Cell \u001b[1;32mIn[5], line 32\u001b[0m\n\u001b[0;32m     30\u001b[0m targets \u001b[38;5;241m=\u001b[39m batch[\u001b[38;5;241m0\u001b[39m][:, \u001b[38;5;241m1\u001b[39m:]\n\u001b[0;32m     31\u001b[0m outputs \u001b[38;5;241m=\u001b[39m model(inputs)\n\u001b[1;32m---> 32\u001b[0m loss \u001b[38;5;241m=\u001b[39m criterion(outputs\u001b[38;5;241m.\u001b[39mview(\u001b[38;5;241m-\u001b[39m\u001b[38;5;241m1\u001b[39m, grid\u001b[38;5;241m.\u001b[39mshape[\u001b[38;5;241m1\u001b[39m]), \u001b[43mtargets\u001b[49m\u001b[38;5;241;43m.\u001b[39;49m\u001b[43mview\u001b[49m\u001b[43m(\u001b[49m\u001b[38;5;241;43m-\u001b[39;49m\u001b[38;5;241;43m1\u001b[39;49m\u001b[43m)\u001b[49m)\n\u001b[0;32m     33\u001b[0m optimizer\u001b[38;5;241m.\u001b[39mzero_grad()\n\u001b[0;32m     34\u001b[0m loss\u001b[38;5;241m.\u001b[39mbackward()\n",
      "\u001b[1;31mRuntimeError\u001b[0m: view size is not compatible with input tensor's size and stride (at least one dimension spans across two contiguous subspaces). Use .reshape(...) instead."
     ]
    }
   ],
   "source": [
    "import torch\n",
    "from torch import nn\n",
    "from torch.utils.data import DataLoader, TensorDataset\n",
    "\n",
    "class SimpleTransformer(nn.Module):\n",
    "    def __init__(self, input_dim, seq_length, num_heads, hidden_dim, num_layers):\n",
    "        super().__init__()\n",
    "        self.embedding = nn.Linear(input_dim, hidden_dim)\n",
    "        encoder_layer = nn.TransformerEncoderLayer(d_model=hidden_dim, nhead=num_heads)\n",
    "        self.encoder = nn.TransformerEncoder(encoder_layer, num_layers=num_layers)\n",
    "        self.output_layer = nn.Linear(hidden_dim, input_dim)\n",
    "\n",
    "    def forward(self, x):\n",
    "        x = self.embedding(x)\n",
    "        x = self.encoder(x)\n",
    "        return self.output_layer(x)\n",
    "\n",
    "# Preparing the dataset\n",
    "train_data = torch.tensor(windows, dtype=torch.float32)\n",
    "train_loader = DataLoader(TensorDataset(train_data), batch_size=32, shuffle=True)\n",
    "\n",
    "# Training the model\n",
    "model = SimpleTransformer(input_dim=grid.shape[1], seq_length=window_size, num_heads=4, hidden_dim=64, num_layers=2)\n",
    "optimizer = torch.optim.Adam(model.parameters(), lr=1e-3)\n",
    "criterion = nn.CrossEntropyLoss()\n",
    "\n",
    "for epoch in range(10):\n",
    "    for batch in train_loader:\n",
    "        inputs = batch[0][:, :-1]\n",
    "        targets = batch[0][:, 1:]\n",
    "        outputs = model(inputs)\n",
    "        loss = criterion(outputs.view(-1, grid.shape[1]), targets.view(-1))\n",
    "        optimizer.zero_grad()\n",
    "        loss.backward()\n",
    "        optimizer.step()"
   ]
  },
  {
   "cell_type": "code",
   "execution_count": null,
   "metadata": {},
   "outputs": [],
   "source": []
  }
 ],
 "metadata": {
  "kernelspec": {
   "display_name": ".env",
   "language": "python",
   "name": "python3"
  },
  "language_info": {
   "codemirror_mode": {
    "name": "ipython",
    "version": 3
   },
   "file_extension": ".py",
   "mimetype": "text/x-python",
   "name": "python",
   "nbconvert_exporter": "python",
   "pygments_lexer": "ipython3",
   "version": "3.11.9"
  }
 },
 "nbformat": 4,
 "nbformat_minor": 2
}
