{
 "cells": [
  {
   "cell_type": "code",
   "execution_count": 2,
   "metadata": {},
   "outputs": [
    {
     "name": "stderr",
     "output_type": "stream",
     "text": [
      "C:\\Users\\ernan\\AppData\\Local\\Temp\\ipykernel_36544\\3516035474.py:53: DeprecationWarning: The truth value of an empty array is ambiguous. Returning False, but in future this will result in an error. Use `array.size > 0` to check that an array is not empty.\n",
      "  if neighbors:  # If there are empty neighbors\n"
     ]
    },
    {
     "data": {
      "image/png": "[encoded data removed]",
      "text/plain": [
       "<Figure size 500x500 with 1 Axes>"
      ]
     },
     "metadata": {},
     "output_type": "display_data"
    }
   ],
   "source": [
    "import numpy as np\n",
    "import matplotlib.pyplot as plt\n",
    "\n",
    "def create_maze(size):\n",
    "  \"\"\"\n",
    "  Creates a simple maze using a random maze generation algorithm.\n",
    "\n",
    "  Args:\n",
    "    size: The size of the maze (square).\n",
    "\n",
    "  Returns:\n",
    "    A 2D numpy array representing the maze.\n",
    "    0: Path\n",
    "    1: Wall\n",
    "  \"\"\"\n",
    "  maze = np.ones((size, size))  # Initialize with all walls\n",
    "  maze[0, 0] = 0  # Set start point\n",
    "  maze[size-1, size-1] = 0  # Set end point\n",
    "\n",
    "  def carve_passages(x, y):\n",
    "    directions = [(0, 1), (0, -1), (1, 0), (-1, 0)]  # Right, Left, Down, Up\n",
    "    np.random.shuffle(directions)\n",
    "    for dx, dy in directions:\n",
    "      nx, ny = x + 2*dx, y + 2*dy\n",
    "      if 0 <= nx < size and 0 <= ny < size and maze[nx, ny] == 1:\n",
    "        maze[x+dx, y+dy] = 0\n",
    "        maze[nx, ny] = 0\n",
    "        carve_passages(nx, ny)\n",
    "\n",
    "  carve_passages(1, 1)  # Start carving from a random point near the start\n",
    "  return maze\n",
    "\n",
    "def find_path(maze):\n",
    "  \"\"\"\n",
    "  Finds a path through the maze using a simple CA.\n",
    "\n",
    "  Args:\n",
    "    maze: A 2D numpy array representing the maze.\n",
    "\n",
    "  Returns:\n",
    "    A 2D numpy array representing the path.\n",
    "  \"\"\"\n",
    "  path = maze.copy()  # Initialize path with maze layout\n",
    "  path[path == 0] = 2  # Mark initial path as 2\n",
    "\n",
    "  while True:\n",
    "    new_path = path.copy()\n",
    "    for i in range(1, path.shape[0]-1):\n",
    "      for j in range(1, path.shape[1]-1):\n",
    "        if path[i, j] == 2:  # If it's part of the current path\n",
    "          neighbors = path[i-1:i+2, j-1:j+2].flatten()\n",
    "          neighbors = neighbors[neighbors == 0]  # Find neighboring empty cells\n",
    "          if neighbors:  # If there are empty neighbors\n",
    "            new_path[i, j] = 0  # Remove from current path\n",
    "            new_path[np.random.choice(neighbors)] = 2  # Move to a random neighbor\n",
    "    path = new_path\n",
    "\n",
    "    # Check if the goal is reached\n",
    "    if path[path.shape[0]-1, path.shape[1]-1] == 2:\n",
    "      break\n",
    "\n",
    "  return path\n",
    "\n",
    "# Generate a maze\n",
    "maze_size = 20\n",
    "maze = create_maze(maze_size)\n",
    "\n",
    "# Find the path\n",
    "path = find_path(maze)\n",
    "\n",
    "# Visualize the maze and path\n",
    "plt.figure(figsize=(5, 5))\n",
    "plt.imshow(maze, cmap='binary', interpolation='nearest')\n",
    "plt.imshow(path, cmap='viridis', alpha=0.5, interpolation='nearest')\n",
    "plt.title(\"Maze with CA-Found Path\")\n",
    "plt.axis('off')\n",
    "plt.show()"
   ]
  }
 ],
 "metadata": {
  "kernelspec": {
   "display_name": ".env",
   "language": "python",
   "name": "python3"
  },
  "language_info": {
   "codemirror_mode": {
    "name": "ipython",
    "version": 3
   },
   "file_extension": ".py",
   "mimetype": "text/x-python",
   "name": "python",
   "nbconvert_exporter": "python",
   "pygments_lexer": "ipython3",
   "version": "3.11.9"
  }
 },
 "nbformat": 4,
 "nbformat_minor": 2
}
