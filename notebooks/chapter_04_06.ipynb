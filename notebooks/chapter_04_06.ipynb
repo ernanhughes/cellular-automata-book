{
 "cells": [
  {
   "cell_type": "code",
   "execution_count": 1,
   "metadata": {},
   "outputs": [
    {
     "name": "stderr",
     "output_type": "stream",
     "text": [
      "C:\\Users\\ernan\\AppData\\Local\\Temp\\ipykernel_2396\\804457692.py:73: UserWarning: frames=None which we can infer the length of, did not pass an explicit *save_count* and passed cache_frame_data=True.  To avoid a possibly unbounded cache, frame data caching has been disabled. To suppress this warning either pass `cache_frame_data=False` or `save_count=MAX_FRAMES`.\n",
      "  ani = animation.FuncAnimation(fig, update, interval=50)\n"
     ]
    },
    {
     "data": {
      "image/png": "[encoded data removed]",
      "text/plain": [
       "<Figure size 500x500 with 1 Axes>"
      ]
     },
     "metadata": {},
     "output_type": "display_data"
    }
   ],
   "source": [
    "# -*- coding: utf-8 -*-\n",
    "\n",
    "\"\"\"This is a simple implementation of a heat equation solver based on a cellular automaton in Python. It uses matplotlib's matshow to represent the cells' temperature. Cells can be heated by clicking and the animation can be controlled by the keyboard (spacebar to play/pause append the right arrow button to advance by one frame).\"\"\"\n",
    "\n",
    "# first we import necessary packages: numpy (for arrays), pyplot and animation (for visualization)\n",
    "import numpy as np\n",
    "import matplotlib.pyplot as plt\n",
    "import matplotlib.animation as animation\n",
    "\n",
    "# then we declare necessary global variables\n",
    "rows = 100      # number of rows\n",
    "cols = 100      # number of columns\n",
    "hot = 1       # value of a cell that is hot\n",
    "cold = 0        # value of a cold cell\n",
    "cp = 0\n",
    "pause = True    # pause flag\n",
    "\n",
    "# now we can create the grid and fill them with cold cells\n",
    "cell = np.full((rows, cols), cold)\n",
    "# we add a starting configuration (block)\n",
    "for i in range(40, 60):\n",
    "    for j in range(40, 60):\n",
    "        cell[i, j] = hot\n",
    "\n",
    "\n",
    "# we need a function that updates the plot each frame\n",
    "def update(*args):\n",
    "    if not pause:\n",
    "        advance()\n",
    "\n",
    "# this is the main function that advances the animation by one frame (time step)\n",
    "def advance(*args):\n",
    "    global cell\n",
    "    # we create a new (actual) copy of all cell states\n",
    "    newcell = cell.copy()\n",
    "    # and then sum up the values of all neighboring cells and find the average\n",
    "    for i in range(rows):\n",
    "        for j in range(cols):\n",
    "            total = (cp*cell[i, j] + cell[i, (j - 1) % cols] + cell[i, (j + 1) % cols] + cell[(i - 1) % rows, j] + cell[(i + 1) % rows, j] + cell[(i - 1) % rows, (j - 1) % cols] + cell[(i - 1) % rows, (j + 1) % cols] + cell[(i + 1) % rows, (j - 1) % cols] + cell[(i + 1) % rows, (j + 1) % cols])\n",
    "            avg = total/(9.0+cp)\n",
    "            newcell[i, j] = avg\n",
    "    # the new cells are now the old cells and are returned\n",
    "    grid.set_data(newcell)\n",
    "    cell = newcell\n",
    "    return [grid]\n",
    "\n",
    "# this catches keyboard events (spacebar for play/pause, right arrow key for advancing one frame)\n",
    "def press(event):\n",
    "    global pause\n",
    "    if event.key == \" \":\n",
    "        pause = not pause\n",
    "        return pause\n",
    "    elif event.key == \"right\":\n",
    "        advance()\n",
    "\n",
    "# catches mouseclick events to draw hot cells\n",
    "def click(event):\n",
    "    if pause:\n",
    "        global cell\n",
    "        if isinstance(event.xdata, float) and isinstance(event.ydata, float):\n",
    "            j = int(round(event.xdata))\n",
    "            i = int(round(event.ydata))\n",
    "            cell[i, j] = hot\n",
    "            grid.set_data(cell)\n",
    "    return grid\n",
    "\n",
    "# plot and animation commands\n",
    "fig = plt.figure(figsize=(5, 5))\n",
    "ax = plt.subplot()\n",
    "grid = ax.matshow(cell, cmap=\"nipy_spectral\")\n",
    "fig.canvas.mpl_connect('key_press_event', press)\n",
    "fig.canvas.mpl_connect('button_press_event', click)\n",
    "ani = animation.FuncAnimation(fig, update, interval=50)\n",
    "plt.show()"
   ]
  }
 ],
 "metadata": {
  "kernelspec": {
   "display_name": ".env",
   "language": "python",
   "name": "python3"
  },
  "language_info": {
   "codemirror_mode": {
    "name": "ipython",
    "version": 3
   },
   "file_extension": ".py",
   "mimetype": "text/x-python",
   "name": "python",
   "nbconvert_exporter": "python",
   "pygments_lexer": "ipython3",
   "version": "3.11.9"
  }
 },
 "nbformat": 4,
 "nbformat_minor": 2
}
