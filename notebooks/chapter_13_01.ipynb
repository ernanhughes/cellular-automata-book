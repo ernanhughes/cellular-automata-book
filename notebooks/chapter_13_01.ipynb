{
 "cells": [
  {
   "cell_type": "code",
   "execution_count": 5,
   "metadata": {},
   "outputs": [
    {
     "name": "stdout",
     "output_type": "stream",
     "text": [
      "One possible Magic Square:\n",
      "6 7 2\n",
      "1 5 9\n",
      "8 3 4\n"
     ]
    }
   ],
   "source": [
    "from constraint import Problem, AllDifferentConstraint, ExactSumConstraint\n",
    "import numpy as np\n",
    "\n",
    "problem = Problem()\n",
    "cells = ['A1', 'A2', 'A3',\n",
    "         'B1', 'B2', 'B3',\n",
    "         'C1', 'C2', 'C3']\n",
    "\n",
    "# The domain is numbers from 1 to 9\n",
    "domain = range(1, 10)\n",
    "\n",
    "problem.addVariables(cells, domain)\n",
    "problem.addConstraint(AllDifferentConstraint(), cells)\n",
    "problem.addConstraint(ExactSumConstraint(15), ['A1', 'A2', 'A3'])\n",
    "problem.addConstraint(ExactSumConstraint(15), ['B1', 'B2', 'B3'])\n",
    "problem.addConstraint(ExactSumConstraint(15), ['C1', 'C2', 'C3'])\n",
    "\n",
    "\n",
    "problem.addConstraint(ExactSumConstraint(15), ['A1', 'B1', 'C1'])\n",
    "problem.addConstraint(ExactSumConstraint(15), ['A2', 'B2', 'C2'])\n",
    "problem.addConstraint(ExactSumConstraint(15), ['A3', 'B3', 'C3'])\n",
    "\n",
    "# Diagonals\n",
    "problem.addConstraint(ExactSumConstraint(15), ['A1', 'B2', 'C3'])\n",
    "problem.addConstraint(ExactSumConstraint(15), ['A3', 'B2', 'C1'])\n",
    "solutions = problem.getSolutions()\n",
    "\n",
    "\n",
    "if solutions:\n",
    "    solution = solutions[0]  # Get the first solution\n",
    "    print(\"One possible Magic Square:\")\n",
    "    print(f\"{solution['A1']} {solution['A2']} {solution['A3']}\")\n",
    "    print(f\"{solution['B1']} {solution['B2']} {solution['B3']}\")\n",
    "    print(f\"{solution['C1']} {solution['C2']} {solution['C3']}\")\n",
    "else:\n",
    "    print(\"No solution found.\")\n",
    "\n"
   ]
  },
  {
   "cell_type": "code",
   "execution_count": 6,
   "metadata": {},
   "outputs": [
    {
     "data": {
      "image/png": "[encoded data removed]",
      "text/plain": [
       "<Figure size 500x500 with 1 Axes>"
      ]
     },
     "metadata": {},
     "output_type": "display_data"
    }
   ],
   "source": [
    "import numpy as np\n",
    "import matplotlib.pyplot as plt\n",
    "\n",
    "def display_magic_square(solution):\n",
    "    # Convert the solution dictionary to a 2D list\n",
    "    magic_square = [\n",
    "        [solution['A1'], solution['A2'], solution['A3']],\n",
    "        [solution['B1'], solution['B2'], solution['B3']],\n",
    "        [solution['C1'], solution['C2'], solution['C3']]\n",
    "    ]\n",
    "    magic_square = np.array(magic_square)\n",
    "    \n",
    "    fig, ax = plt.subplots(figsize=(5, 5))\n",
    "    ax.matshow(np.zeros((3, 3)), cmap='Pastel1')\n",
    "    \n",
    "    for (i, j), value in np.ndenumerate(magic_square):\n",
    "        ax.text(j, i, f'{value}', va='center', ha='center', fontsize=24)\n",
    "    \n",
    "    ax.set_xticks([])\n",
    "    ax.set_yticks([])\n",
    "    plt.show()\n",
    "\n",
    "# Display the magic square\n",
    "display_magic_square(solution)\n"
   ]
  }
 ],
 "metadata": {
  "kernelspec": {
   "display_name": ".env",
   "language": "python",
   "name": "python3"
  },
  "language_info": {
   "codemirror_mode": {
    "name": "ipython",
    "version": 3
   },
   "file_extension": ".py",
   "mimetype": "text/x-python",
   "name": "python",
   "nbconvert_exporter": "python",
   "pygments_lexer": "ipython3",
   "version": "3.11.9"
  }
 },
 "nbformat": 4,
 "nbformat_minor": 2
}
